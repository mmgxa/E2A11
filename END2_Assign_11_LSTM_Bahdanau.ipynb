{
  "nbformat": 4,
  "nbformat_minor": 0,
  "metadata": {
    "colab": {
      "name": "END2_Assign_11_LSTM_Bahdanau.ipynb",
      "provenance": [],
      "collapsed_sections": []
    },
    "kernelspec": {
      "name": "python3",
      "display_name": "Python 3"
    },
    "language_info": {
      "name": "python"
    }
  },
  "cells": [
    {
      "cell_type": "markdown",
      "metadata": {
        "id": "9oYh0fwrsofA"
      },
      "source": [
        "# Imports"
      ]
    },
    {
      "cell_type": "code",
      "metadata": {
        "id": "wGAFqEk4sh8l"
      },
      "source": [
        "from io import open\n",
        "import unicodedata\n",
        "import string\n",
        "import re\n",
        "import random\n",
        "\n",
        "import torch\n",
        "import torch.nn as nn\n",
        "from torch import optim\n",
        "import torch.nn.functional as F\n",
        "import numpy as np\n",
        "\n",
        "%matplotlib inline\n",
        "\n",
        "device = torch.device(\"cuda\" if torch.cuda.is_available() else \"cpu\")"
      ],
      "execution_count": 1,
      "outputs": []
    },
    {
      "cell_type": "code",
      "metadata": {
        "colab": {
          "base_uri": "https://localhost:8080/"
        },
        "id": "il6yCpCesvjH",
        "outputId": "3ab946e0-4ac7-42cb-df28-d52aaa308b23"
      },
      "source": [
        "device"
      ],
      "execution_count": 2,
      "outputs": [
        {
          "output_type": "execute_result",
          "data": {
            "text/plain": [
              "device(type='cpu')"
            ]
          },
          "metadata": {
            "tags": []
          },
          "execution_count": 2
        }
      ]
    },
    {
      "cell_type": "markdown",
      "metadata": {
        "id": "Y1TyJ8Wa9SWa"
      },
      "source": [
        "Loading data files\n",
        "==================\n",
        "\n",
        "\n"
      ]
    },
    {
      "cell_type": "code",
      "metadata": {
        "id": "f3oTyLwy9QJc"
      },
      "source": [
        "%%capture\n",
        "!wget https://download.pytorch.org/tutorial/data.zip\n",
        "!unzip -o data.zip"
      ],
      "execution_count": 3,
      "outputs": []
    },
    {
      "cell_type": "markdown",
      "metadata": {
        "id": "G88AQpdYtFxQ"
      },
      "source": [
        "# Vocabulary Class (and Text Preprocessing)"
      ]
    },
    {
      "cell_type": "code",
      "metadata": {
        "id": "GZpryQfutHH7"
      },
      "source": [
        "SOS_token = 0\n",
        "EOS_token = 1\n",
        "\n",
        "class Lang:\n",
        "    def __init__(self, name):\n",
        "        self.name = name\n",
        "        self.word2index = {}\n",
        "        self.word2count = {}\n",
        "        self.index2word = {0: \"<SOS>\", 1: \"<EOS>\"}\n",
        "        self.n_words = 2  # Count SOS and EOS\n",
        "    def addSentence(self, sentence):\n",
        "        for word in sentence.split(' '):\n",
        "            self.addWord(word)\n",
        "    def addWord(self, word):\n",
        "        if word not in self.word2index:\n",
        "            self.word2index[word] = self.n_words\n",
        "            self.word2count[word] = 1\n",
        "            self.index2word[self.n_words] = word\n",
        "            self.n_words += 1\n",
        "        else:\n",
        "            self.word2count[word] += 1\n",
        "\n",
        "\n",
        "# Turn a Unicode string to plain ASCII, thanks to\n",
        "# https://stackoverflow.com/a/518232/2809427\n",
        "def unicodeToAscii(s):\n",
        "    return ''.join(\n",
        "        c for c in unicodedata.normalize('NFD', s)\n",
        "        if unicodedata.category(c) != 'Mn'\n",
        "    )\n",
        "\n",
        "# Lowercase, trim, and remove non-letter characters\n",
        "\n",
        "\n",
        "def normalizeString(s):\n",
        "    s = unicodeToAscii(s.lower().strip())\n",
        "    s = re.sub(r\"([.!?])\", r\" \\1\", s)\n",
        "    s = re.sub(r\"[^a-zA-Z.!?]+\", r\" \", s)\n",
        "    return s\n",
        "\n",
        "def readLangs(lang1, lang2, reverse=False):\n",
        "    print(\"Reading lines...\")\n",
        "\n",
        "    # Read the file and split into lines\n",
        "    lines = open('data/%s-%s.txt' % (lang1, lang2), encoding='utf-8').\\\n",
        "        read().strip().split('\\n')\n",
        "\n",
        "    # Split every line into pairs and normalize\n",
        "    pairs = [[normalizeString(s) for s in l.split('\\t')] for l in lines]\n",
        "\n",
        "    # Reverse pairs, make Lang instances\n",
        "    if reverse:\n",
        "        pairs = [list(reversed(p)) for p in pairs]\n",
        "        input_lang = Lang(lang2)\n",
        "        output_lang = Lang(lang1)\n",
        "    else:\n",
        "        input_lang = Lang(lang1)\n",
        "        output_lang = Lang(lang2)\n",
        "\n",
        "    return input_lang, output_lang, pairs\n",
        "\n",
        "\n",
        "MAX_LENGTH = 10\n",
        "\n",
        "eng_prefixes = (\n",
        "    \"i am \", \"i m \",\n",
        "    \"he is\", \"he s \",\n",
        "    \"she is\", \"she s \",\n",
        "    \"you are\", \"you re \",\n",
        "    \"we are\", \"we re \",\n",
        "    \"they are\", \"they re \"\n",
        ")\n",
        "\n",
        "\n",
        "def filterPair(p):\n",
        "    return len(p[0].split(' ')) < MAX_LENGTH and \\\n",
        "        len(p[1].split(' ')) < MAX_LENGTH and \\\n",
        "        p[1].startswith(eng_prefixes)\n",
        "\n",
        "\n",
        "def filterPairs(pairs):\n",
        "    return [pair for pair in pairs if filterPair(pair)]\n",
        "\n",
        "\n",
        "def prepareData(lang1, lang2, reverse=False):\n",
        "    input_lang, output_lang, pairs = readLangs(lang1, lang2, reverse)\n",
        "    print(\"Read %s sentence pairs\" % len(pairs))\n",
        "    pairs = filterPairs(pairs)\n",
        "    print(\"Trimmed to %s sentence pairs\" % len(pairs))\n",
        "    print(\"Counting words...\")\n",
        "    for pair in pairs:\n",
        "        input_lang.addSentence(pair[0])\n",
        "        output_lang.addSentence(pair[1])\n",
        "    print(\"Counted words:\")\n",
        "    print(input_lang.name, input_lang.n_words)\n",
        "    print(output_lang.name, output_lang.n_words)\n",
        "    return input_lang, output_lang, pairs"
      ],
      "execution_count": 4,
      "outputs": []
    },
    {
      "cell_type": "code",
      "metadata": {
        "colab": {
          "base_uri": "https://localhost:8080/"
        },
        "id": "SXYX7mu3zz7t",
        "outputId": "bc2a1bc6-6c56-4342-9219-6711f03fcd37"
      },
      "source": [
        "input_lang, output_lang, pairs = prepareData('eng', 'fra', True)"
      ],
      "execution_count": 5,
      "outputs": [
        {
          "output_type": "stream",
          "text": [
            "Reading lines...\n",
            "Read 135842 sentence pairs\n",
            "Trimmed to 10599 sentence pairs\n",
            "Counting words...\n",
            "Counted words:\n",
            "fra 4345\n",
            "eng 2803\n"
          ],
          "name": "stdout"
        }
      ]
    },
    {
      "cell_type": "markdown",
      "metadata": {
        "id": "EKYlv9WBx3GF"
      },
      "source": [
        "# Random Sample for Subsequent Runs"
      ]
    },
    {
      "cell_type": "markdown",
      "metadata": {
        "id": "okQp_oiJUrRv"
      },
      "source": [
        "A random sample from the 'pairs' list was chosen so that the maximum length of the input and output sequences do not change upon subsequent runs, since we are not allowed to use a for-loop in our code!"
      ]
    },
    {
      "cell_type": "code",
      "metadata": {
        "colab": {
          "base_uri": "https://localhost:8080/"
        },
        "id": "T51CGbM6x6I4",
        "outputId": "8fdba3b2-8344-41d1-ceab-9c6c8ce1982f"
      },
      "source": [
        "# sample = random.choice(pairs)\n",
        "sample = ['vous me faites rougir .', 'you re making me blush .']\n",
        "sample"
      ],
      "execution_count": 6,
      "outputs": [
        {
          "output_type": "execute_result",
          "data": {
            "text/plain": [
              "['vous me faites rougir .', 'you re making me blush .']"
            ]
          },
          "metadata": {
            "tags": []
          },
          "execution_count": 6
        }
      ]
    },
    {
      "cell_type": "code",
      "metadata": {
        "id": "gzwD40tOx7eI"
      },
      "source": [
        "input_sentence = sample[0]\n",
        "output_sentence = sample[1]"
      ],
      "execution_count": 7,
      "outputs": []
    },
    {
      "cell_type": "code",
      "metadata": {
        "id": "BQ4oqtLeyARV"
      },
      "source": [
        "input_indices = [input_lang.word2index[word] for word in input_sentence.split(' ')]\n",
        "target_indices = [output_lang.word2index[word] for word in output_sentence.split(' ')]"
      ],
      "execution_count": 8,
      "outputs": []
    },
    {
      "cell_type": "code",
      "metadata": {
        "id": "fQ5bY9zMyCyK"
      },
      "source": [
        "input_indices.append(EOS_token)\n",
        "target_indices.append(EOS_token)"
      ],
      "execution_count": 9,
      "outputs": []
    },
    {
      "cell_type": "code",
      "metadata": {
        "colab": {
          "base_uri": "https://localhost:8080/"
        },
        "id": "mwAWOt0KyEBW",
        "outputId": "f0643f4b-4404-4740-ab09-b0f925e2b5be"
      },
      "source": [
        "input_indices, target_indices"
      ],
      "execution_count": 10,
      "outputs": [
        {
          "output_type": "execute_result",
          "data": {
            "text/plain": [
              "([118, 27, 590, 2795, 5, 1], [129, 78, 505, 343, 1655, 4, 1])"
            ]
          },
          "metadata": {
            "tags": []
          },
          "execution_count": 10
        }
      ]
    },
    {
      "cell_type": "code",
      "metadata": {
        "id": "eWHibei6yJ06"
      },
      "source": [
        "input_tensor = torch.tensor(input_indices, dtype=torch.long, device = device)\n",
        "output_tensor = torch.tensor(target_indices, dtype=torch.long, device = device)"
      ],
      "execution_count": 11,
      "outputs": []
    },
    {
      "cell_type": "code",
      "metadata": {
        "colab": {
          "base_uri": "https://localhost:8080/"
        },
        "id": "79Y_qusNyLk1",
        "outputId": "96c528a3-3ff4-46b1-fb90-50fcd0c0262d"
      },
      "source": [
        "input_tensor.shape, output_tensor.shape"
      ],
      "execution_count": 12,
      "outputs": [
        {
          "output_type": "execute_result",
          "data": {
            "text/plain": [
              "(torch.Size([6]), torch.Size([7]))"
            ]
          },
          "metadata": {
            "tags": []
          },
          "execution_count": 12
        }
      ]
    },
    {
      "cell_type": "markdown",
      "metadata": {
        "id": "ZR6IZE7cv553"
      },
      "source": [
        "# Dimensions"
      ]
    },
    {
      "cell_type": "code",
      "metadata": {
        "id": "aMvNnu5mv5Xy"
      },
      "source": [
        "DIM_IN = input_lang.n_words\n",
        "DIM_OUT = output_lang.n_words\n",
        "DIM_HID = 256 # arbitraily chosen! must be same for encoder and decoder!\n",
        "MAX_LEN_IN = input_tensor.size()[0] # length of the input sequence under consideration\n",
        "MAX_LEN_OUT = output_tensor.size()[0] # length of the output sequence under consideration"
      ],
      "execution_count": 13,
      "outputs": []
    },
    {
      "cell_type": "code",
      "metadata": {
        "colab": {
          "base_uri": "https://localhost:8080/"
        },
        "id": "mDUbXUQd0ChO",
        "outputId": "37e34fe9-5c82-4b37-9a13-e0ab1ead8dcb"
      },
      "source": [
        "DIM_IN, DIM_OUT, DIM_HID, MAX_LEN_IN, MAX_LEN_OUT"
      ],
      "execution_count": 14,
      "outputs": [
        {
          "output_type": "execute_result",
          "data": {
            "text/plain": [
              "(4345, 2803, 256, 6, 7)"
            ]
          },
          "metadata": {
            "tags": []
          },
          "execution_count": 14
        }
      ]
    },
    {
      "cell_type": "markdown",
      "metadata": {
        "id": "YRQnCPGFv0PF"
      },
      "source": [
        "# Encoder"
      ]
    },
    {
      "cell_type": "markdown",
      "metadata": {
        "id": "EOCtkCKOy3Ce"
      },
      "source": [
        "## Instantiating layers"
      ]
    },
    {
      "cell_type": "code",
      "metadata": {
        "id": "C4xgwejGv1H1"
      },
      "source": [
        "embedding = nn.Embedding(DIM_IN, DIM_HID).to(device)\n",
        "lstm = nn.LSTM(DIM_HID, DIM_HID).to(device)"
      ],
      "execution_count": 15,
      "outputs": []
    },
    {
      "cell_type": "markdown",
      "metadata": {
        "id": "CdJiCDP71RXd"
      },
      "source": [
        "## Feeding Input Sequence to Encoder"
      ]
    },
    {
      "cell_type": "code",
      "metadata": {
        "id": "jBq_F74AzMJr"
      },
      "source": [
        "encoder_outputs = torch.zeros(MAX_LEN_IN, DIM_HID, device=device) # array to store outputs of enocders so that it can be used for attention\n",
        "hidden = torch.zeros(1, 1, DIM_HID, device=device) # first hidden state initialized as zeros\n",
        "cell = torch.zeros(1, 1, DIM_HID, device=device) # first hidden state initialized as zeros"
      ],
      "execution_count": 16,
      "outputs": []
    },
    {
      "cell_type": "code",
      "metadata": {
        "id": "NRbAdE5zVXeT"
      },
      "source": [
        "input = input_tensor[0].view(-1, 1)\n",
        "embedded_input = embedding(input)\n",
        "output, (hidden, cell) = lstm(embedded_input, (hidden, cell))\n",
        "encoder_outputs[0] += output[0,0]"
      ],
      "execution_count": 17,
      "outputs": []
    },
    {
      "cell_type": "code",
      "metadata": {
        "id": "jIys4aW0VXbu"
      },
      "source": [
        "input = input_tensor[1].view(-1, 1)\n",
        "embedded_input = embedding(input)\n",
        "output, (hidden, cell) = lstm(embedded_input, (hidden, cell))\n",
        "encoder_outputs[1] += output[0,0]"
      ],
      "execution_count": 18,
      "outputs": []
    },
    {
      "cell_type": "code",
      "metadata": {
        "id": "bsX7vPKkVXZB"
      },
      "source": [
        "input = input_tensor[2].view(-1, 1)\n",
        "embedded_input = embedding(input)\n",
        "output, (hidden, cell) = lstm(embedded_input, (hidden, cell))\n",
        "encoder_outputs[2] += output[0,0]"
      ],
      "execution_count": 19,
      "outputs": []
    },
    {
      "cell_type": "code",
      "metadata": {
        "id": "tGS2wLIpVXVN"
      },
      "source": [
        "input = input_tensor[3].view(-1, 1)\n",
        "embedded_input = embedding(input)\n",
        "output, (hidden, cell) = lstm(embedded_input, (hidden, cell))\n",
        "encoder_outputs[3] += output[0,0]"
      ],
      "execution_count": 20,
      "outputs": []
    },
    {
      "cell_type": "code",
      "metadata": {
        "id": "TQInI230VXRN"
      },
      "source": [
        "input = input_tensor[4].view(-1, 1)\n",
        "embedded_input = embedding(input)\n",
        "output, (hidden, cell) = lstm(embedded_input, (hidden, cell))\n",
        "encoder_outputs[4] += output[0,0]"
      ],
      "execution_count": 21,
      "outputs": []
    },
    {
      "cell_type": "code",
      "metadata": {
        "id": "EemqnKxwVkWz"
      },
      "source": [
        "input = input_tensor[5].view(-1, 1)\n",
        "embedded_input = embedding(input)\n",
        "output, (hidden, cell) = lstm(embedded_input, (hidden, cell))\n",
        "encoder_outputs[5] += output[0,0]"
      ],
      "execution_count": 22,
      "outputs": []
    },
    {
      "cell_type": "markdown",
      "metadata": {
        "id": "xsRgg-CN1PpH"
      },
      "source": [
        "# Decoder"
      ]
    },
    {
      "cell_type": "markdown",
      "metadata": {
        "id": "9DLdKHze1WXy"
      },
      "source": [
        "## Instantiating Layers"
      ]
    },
    {
      "cell_type": "code",
      "metadata": {
        "id": "O5Z7ZJCl1HVS"
      },
      "source": [
        "embedding = nn.Embedding(DIM_OUT, DIM_HID).to(device)\n",
        "attn = nn.Linear(DIM_HID, DIM_HID)\n",
        "lstm_inp = nn.Linear(DIM_HID * 2, DIM_HID).to(device) #this layer takes care of the mismatched dimensions\n",
        "lstm = nn.LSTM(DIM_HID, DIM_HID).to(device)\n",
        "linear_out = nn.Linear(DIM_HID*2, DIM_OUT).to(device)"
      ],
      "execution_count": 23,
      "outputs": []
    },
    {
      "cell_type": "code",
      "metadata": {
        "id": "GdBi5m0hW_oz"
      },
      "source": [
        "predicted_sentence = []"
      ],
      "execution_count": 24,
      "outputs": []
    },
    {
      "cell_type": "markdown",
      "metadata": {
        "id": "JVbsS5Ec2IWS"
      },
      "source": [
        "## Feeding to the Decoder - Word 1"
      ]
    },
    {
      "cell_type": "code",
      "metadata": {
        "colab": {
          "base_uri": "https://localhost:8080/"
        },
        "id": "FdwAMWCW2uHs",
        "outputId": "d3464526-7f60-46cf-9924-23a373187ff6"
      },
      "source": [
        "decoder_input = torch.tensor([[SOS_token]], device=device) # We start from the <SOS> Token\n",
        "decoder_hidden = hidden # what we got from the output of the encoder from the last word\n",
        "decoder_cell = cell # what we got from the output of the encoder from the last word\n",
        "\n",
        "embedded = embedding(decoder_input)\n",
        "\n",
        "## Attn module\n",
        "attn_energies = torch.zeros(MAX_LEN_IN).to(device)\n",
        "for i in range(MAX_LEN_IN):\n",
        "  energy = attn(encoder_outputs[i])\n",
        "  attn_energies[i] = hidden[0,0].dot(energy) + cell[0,0].dot(energy)\n",
        "attn_weights = F.softmax(attn_energies, dim=0).unsqueeze(0).unsqueeze(0)\n",
        "##\n",
        "\n",
        "context = attn_weights.bmm(encoder_outputs.unsqueeze(1).transpose(0, 1))\n",
        "\n",
        "input_to_lstm1 = torch.cat((embedded, context), 2)\n",
        "input_to_lstm2 = lstm_inp(input_to_lstm1)\n",
        "output, (decoder_hidden, decoder_cell) = lstm(input_to_lstm2, (decoder_hidden, decoder_cell))\n",
        "\n",
        "output = F.log_softmax(linear_out(torch.cat((output, context), 2)), dim=2)\n",
        "top_value, top_index = output.data.topk(1) # same as using np.argmax\n",
        "\n",
        "out_word = output_lang.index2word[top_index.item()]\n",
        "print(out_word)\n",
        "predicted_sentence.append(out_word)"
      ],
      "execution_count": 25,
      "outputs": [
        {
          "output_type": "stream",
          "text": [
            "chemistry\n"
          ],
          "name": "stdout"
        }
      ]
    },
    {
      "cell_type": "markdown",
      "metadata": {
        "id": "k8aS42wJ4lCY"
      },
      "source": [
        "## Feeding to the Decoder - Word 2"
      ]
    },
    {
      "cell_type": "code",
      "metadata": {
        "id": "qmsehS0y4lCZ"
      },
      "source": [
        "teacher_forcing_ratio = 0.5\n",
        "use_teacher_forcing = True if random.random() < teacher_forcing_ratio else False\n",
        "\n",
        "if use_teacher_forcing:\n",
        "  decoder_input = torch.tensor([[target_indices[0]]], device=device)\n",
        "else:\n",
        "  decoder_input = torch.tensor([[top_index.item()]], device=device)\n"
      ],
      "execution_count": 26,
      "outputs": []
    },
    {
      "cell_type": "code",
      "metadata": {
        "colab": {
          "base_uri": "https://localhost:8080/"
        },
        "id": "OzUCJrNp4lCa",
        "outputId": "7e2a288a-589c-413e-f13f-b645b92d62d9"
      },
      "source": [
        "embedded = embedding(decoder_input)\n",
        "\n",
        "## Attn module\n",
        "attn_energies = torch.zeros(MAX_LEN_IN).to(device)\n",
        "for i in range(MAX_LEN_IN):\n",
        "  energy = attn(encoder_outputs[i])\n",
        "  attn_energies[i] = hidden[0,0].dot(energy) + cell[0,0].dot(energy)\n",
        "attn_weights = F.softmax(attn_energies, dim=0).unsqueeze(0).unsqueeze(0)\n",
        "##\n",
        "\n",
        "context = attn_weights.bmm(encoder_outputs.unsqueeze(1).transpose(0, 1))\n",
        "\n",
        "input_to_lstm1 = torch.cat((embedded, context), 2)\n",
        "input_to_lstm2 = lstm_inp(input_to_lstm1)\n",
        "output, (decoder_hidden, decoder_cell) = lstm(input_to_lstm2, (decoder_hidden, decoder_cell))\n",
        "\n",
        "output = F.log_softmax(linear_out(torch.cat((output, context), 2)), dim=2)\n",
        "top_value, top_index = output.data.topk(1) # same as using np.argmax\n",
        "\n",
        "out_word = output_lang.index2word[top_index.item()]\n",
        "print(out_word)\n",
        "predicted_sentence.append(out_word)"
      ],
      "execution_count": 27,
      "outputs": [
        {
          "output_type": "stream",
          "text": [
            "chemistry\n"
          ],
          "name": "stdout"
        }
      ]
    },
    {
      "cell_type": "markdown",
      "metadata": {
        "id": "GeLC29GCWbwq"
      },
      "source": [
        "## Feeding to the Decoder - Word 3"
      ]
    },
    {
      "cell_type": "code",
      "metadata": {
        "id": "lnxBHmlEWbwu"
      },
      "source": [
        "teacher_forcing_ratio = 0.5\n",
        "use_teacher_forcing = True if random.random() < teacher_forcing_ratio else False\n",
        "\n",
        "if use_teacher_forcing:\n",
        "  decoder_input = torch.tensor([[target_indices[0]]], device=device)\n",
        "else:\n",
        "  decoder_input = torch.tensor([[top_index.item()]], device=device)\n"
      ],
      "execution_count": 28,
      "outputs": []
    },
    {
      "cell_type": "code",
      "metadata": {
        "colab": {
          "base_uri": "https://localhost:8080/"
        },
        "id": "IhsppvMqWbwv",
        "outputId": "bef3766c-e8f7-40b0-9303-fe947211fc34"
      },
      "source": [
        "embedded = embedding(decoder_input)\n",
        "\n",
        "## Attn module\n",
        "attn_energies = torch.zeros(MAX_LEN_IN).to(device)\n",
        "for i in range(MAX_LEN_IN):\n",
        "  energy = attn(encoder_outputs[i])\n",
        "  attn_energies[i] = hidden[0,0].dot(energy) + cell[0,0].dot(energy)\n",
        "attn_weights = F.softmax(attn_energies, dim=0).unsqueeze(0).unsqueeze(0)\n",
        "##\n",
        "\n",
        "context = attn_weights.bmm(encoder_outputs.unsqueeze(1).transpose(0, 1))\n",
        "\n",
        "input_to_lstm1 = torch.cat((embedded, context), 2)\n",
        "input_to_lstm2 = lstm_inp(input_to_lstm1)\n",
        "output, (decoder_hidden, decoder_cell) = lstm(input_to_lstm2, (decoder_hidden, decoder_cell))\n",
        "\n",
        "output = F.log_softmax(linear_out(torch.cat((output, context), 2)), dim=2)\n",
        "top_value, top_index = output.data.topk(1) # same as using np.argmax\n",
        "\n",
        "out_word = output_lang.index2word[top_index.item()]\n",
        "print(out_word)\n",
        "predicted_sentence.append(out_word)"
      ],
      "execution_count": 29,
      "outputs": [
        {
          "output_type": "stream",
          "text": [
            "been\n"
          ],
          "name": "stdout"
        }
      ]
    },
    {
      "cell_type": "markdown",
      "metadata": {
        "id": "tErqqNsYWxBm"
      },
      "source": [
        "## Feeding to the Decoder - Word 4"
      ]
    },
    {
      "cell_type": "code",
      "metadata": {
        "id": "688UqRrWWxBn"
      },
      "source": [
        "teacher_forcing_ratio = 0.5\n",
        "use_teacher_forcing = True if random.random() < teacher_forcing_ratio else False\n",
        "\n",
        "if use_teacher_forcing:\n",
        "  decoder_input = torch.tensor([[target_indices[0]]], device=device)\n",
        "else:\n",
        "  decoder_input = torch.tensor([[top_index.item()]], device=device)\n"
      ],
      "execution_count": 30,
      "outputs": []
    },
    {
      "cell_type": "code",
      "metadata": {
        "colab": {
          "base_uri": "https://localhost:8080/"
        },
        "id": "baXiCmy6WxBo",
        "outputId": "fbdaf959-3fa2-46d6-9717-803019a3ff26"
      },
      "source": [
        "embedded = embedding(decoder_input)\n",
        "\n",
        "## Attn module\n",
        "attn_energies = torch.zeros(MAX_LEN_IN).to(device)\n",
        "for i in range(MAX_LEN_IN):\n",
        "  energy = attn(encoder_outputs[i])\n",
        "  attn_energies[i] = hidden[0,0].dot(energy) + cell[0,0].dot(energy)\n",
        "attn_weights = F.softmax(attn_energies, dim=0).unsqueeze(0).unsqueeze(0)\n",
        "##\n",
        "\n",
        "context = attn_weights.bmm(encoder_outputs.unsqueeze(1).transpose(0, 1))\n",
        "\n",
        "input_to_lstm1 = torch.cat((embedded, context), 2)\n",
        "input_to_lstm2 = lstm_inp(input_to_lstm1)\n",
        "output, (decoder_hidden, decoder_cell) = lstm(input_to_lstm2, (decoder_hidden, decoder_cell))\n",
        "\n",
        "output = F.log_softmax(linear_out(torch.cat((output, context), 2)), dim=2)\n",
        "top_value, top_index = output.data.topk(1) # same as using np.argmax\n",
        "\n",
        "out_word = output_lang.index2word[top_index.item()]\n",
        "print(out_word)\n",
        "predicted_sentence.append(out_word)"
      ],
      "execution_count": 31,
      "outputs": [
        {
          "output_type": "stream",
          "text": [
            "cantankerous\n"
          ],
          "name": "stdout"
        }
      ]
    },
    {
      "cell_type": "markdown",
      "metadata": {
        "id": "RSw8RbNqW3ZT"
      },
      "source": [
        "## Feeding to the Decoder - Word 5"
      ]
    },
    {
      "cell_type": "code",
      "metadata": {
        "id": "oN2ABHKdW3ZV"
      },
      "source": [
        "teacher_forcing_ratio = 0.5\n",
        "use_teacher_forcing = True if random.random() < teacher_forcing_ratio else False\n",
        "\n",
        "if use_teacher_forcing:\n",
        "  decoder_input = torch.tensor([[target_indices[0]]], device=device)\n",
        "else:\n",
        "  decoder_input = torch.tensor([[top_index.item()]], device=device)\n"
      ],
      "execution_count": 32,
      "outputs": []
    },
    {
      "cell_type": "code",
      "metadata": {
        "colab": {
          "base_uri": "https://localhost:8080/"
        },
        "id": "2W_2MTbrW3ZW",
        "outputId": "8cfb3569-50f1-4e8e-8e2a-b2d6e9dcbb7f"
      },
      "source": [
        "embedded = embedding(decoder_input)\n",
        "\n",
        "## Attn module\n",
        "attn_energies = torch.zeros(MAX_LEN_IN).to(device)\n",
        "for i in range(MAX_LEN_IN):\n",
        "  energy = attn(encoder_outputs[i])\n",
        "  attn_energies[i] = hidden[0,0].dot(energy) + cell[0,0].dot(energy)\n",
        "attn_weights = F.softmax(attn_energies, dim=0).unsqueeze(0).unsqueeze(0)\n",
        "##\n",
        "\n",
        "context = attn_weights.bmm(encoder_outputs.unsqueeze(1).transpose(0, 1))\n",
        "\n",
        "input_to_lstm1 = torch.cat((embedded, context), 2)\n",
        "input_to_lstm2 = lstm_inp(input_to_lstm1)\n",
        "output, (decoder_hidden, decoder_cell) = lstm(input_to_lstm2, (decoder_hidden, decoder_cell))\n",
        "\n",
        "output = F.log_softmax(linear_out(torch.cat((output, context), 2)), dim=2)\n",
        "top_value, top_index = output.data.topk(1) # same as using np.argmax\n",
        "\n",
        "out_word = output_lang.index2word[top_index.item()]\n",
        "print(out_word)\n",
        "predicted_sentence.append(out_word)"
      ],
      "execution_count": 33,
      "outputs": [
        {
          "output_type": "stream",
          "text": [
            "pressing\n"
          ],
          "name": "stdout"
        }
      ]
    },
    {
      "cell_type": "markdown",
      "metadata": {
        "id": "ohLi6gn1Xm5q"
      },
      "source": [
        "## Feeding to the Decoder - Word 6"
      ]
    },
    {
      "cell_type": "code",
      "metadata": {
        "id": "_92T7hkXXm55"
      },
      "source": [
        "teacher_forcing_ratio = 0.5\n",
        "use_teacher_forcing = True if random.random() < teacher_forcing_ratio else False\n",
        "\n",
        "if use_teacher_forcing:\n",
        "  decoder_input = torch.tensor([[target_indices[0]]], device=device)\n",
        "else:\n",
        "  decoder_input = torch.tensor([[top_index.item()]], device=device)\n"
      ],
      "execution_count": 34,
      "outputs": []
    },
    {
      "cell_type": "code",
      "metadata": {
        "colab": {
          "base_uri": "https://localhost:8080/"
        },
        "id": "UfFEid6SXm55",
        "outputId": "e1aa688b-b381-4c5f-ac97-d2a29b2ba0cf"
      },
      "source": [
        "embedded = embedding(decoder_input)\n",
        "\n",
        "## Attn module\n",
        "attn_energies = torch.zeros(MAX_LEN_IN).to(device)\n",
        "for i in range(MAX_LEN_IN):\n",
        "  energy = attn(encoder_outputs[i])\n",
        "  attn_energies[i] = hidden[0,0].dot(energy) + cell[0,0].dot(energy)\n",
        "attn_weights = F.softmax(attn_energies, dim=0).unsqueeze(0).unsqueeze(0)\n",
        "##\n",
        "\n",
        "context = attn_weights.bmm(encoder_outputs.unsqueeze(1).transpose(0, 1))\n",
        "\n",
        "input_to_lstm1 = torch.cat((embedded, context), 2)\n",
        "input_to_lstm2 = lstm_inp(input_to_lstm1)\n",
        "output, (decoder_hidden, decoder_cell) = lstm(input_to_lstm2, (decoder_hidden, decoder_cell))\n",
        "\n",
        "output = F.log_softmax(linear_out(torch.cat((output, context), 2)), dim=2)\n",
        "top_value, top_index = output.data.topk(1) # same as using np.argmax\n",
        "\n",
        "out_word = output_lang.index2word[top_index.item()]\n",
        "print(out_word)\n",
        "predicted_sentence.append(out_word)"
      ],
      "execution_count": 35,
      "outputs": [
        {
          "output_type": "stream",
          "text": [
            "pressing\n"
          ],
          "name": "stdout"
        }
      ]
    },
    {
      "cell_type": "markdown",
      "metadata": {
        "id": "F0zXYhaZXql5"
      },
      "source": [
        "## Feeding to the Decoder - Word 7"
      ]
    },
    {
      "cell_type": "code",
      "metadata": {
        "id": "l8iP6VYZXql6"
      },
      "source": [
        "teacher_forcing_ratio = 0.5\n",
        "use_teacher_forcing = True if random.random() < teacher_forcing_ratio else False\n",
        "\n",
        "if use_teacher_forcing:\n",
        "  decoder_input = torch.tensor([[target_indices[0]]], device=device)\n",
        "else:\n",
        "  decoder_input = torch.tensor([[top_index.item()]], device=device)\n"
      ],
      "execution_count": 36,
      "outputs": []
    },
    {
      "cell_type": "code",
      "metadata": {
        "colab": {
          "base_uri": "https://localhost:8080/"
        },
        "id": "soVjcyQXXql7",
        "outputId": "81567f29-6b42-42f6-daf3-5ddc6d704e06"
      },
      "source": [
        "embedded = embedding(decoder_input)\n",
        "\n",
        "## Attn module\n",
        "attn_energies = torch.zeros(MAX_LEN_IN).to(device)\n",
        "for i in range(MAX_LEN_IN):\n",
        "  energy = attn(encoder_outputs[i])\n",
        "  attn_energies[i] = hidden[0,0].dot(energy) + cell[0,0].dot(energy)\n",
        "attn_weights = F.softmax(attn_energies, dim=0).unsqueeze(0).unsqueeze(0)\n",
        "##\n",
        "\n",
        "context = attn_weights.bmm(encoder_outputs.unsqueeze(1).transpose(0, 1))\n",
        "\n",
        "input_to_lstm1 = torch.cat((embedded, context), 2)\n",
        "input_to_lstm2 = lstm_inp(input_to_lstm1)\n",
        "output, (decoder_hidden, decoder_cell) = lstm(input_to_lstm2, (decoder_hidden, decoder_cell))\n",
        "\n",
        "output = F.log_softmax(linear_out(torch.cat((output, context), 2)), dim=2)\n",
        "top_value, top_index = output.data.topk(1) # same as using np.argmax\n",
        "\n",
        "out_word = output_lang.index2word[top_index.item()]\n",
        "print(out_word)\n",
        "predicted_sentence.append(out_word)"
      ],
      "execution_count": 37,
      "outputs": [
        {
          "output_type": "stream",
          "text": [
            "reluctant\n"
          ],
          "name": "stdout"
        }
      ]
    },
    {
      "cell_type": "code",
      "metadata": {
        "colab": {
          "base_uri": "https://localhost:8080/",
          "height": 35
        },
        "id": "DWgDPHW2YtFm",
        "outputId": "a929d067-546a-43e6-ba06-446aa7d392fa"
      },
      "source": [
        "predicted_sentence = ' '.join(predicted_sentence)\n",
        "predicted_sentence"
      ],
      "execution_count": 38,
      "outputs": [
        {
          "output_type": "execute_result",
          "data": {
            "application/vnd.google.colaboratory.intrinsic+json": {
              "type": "string"
            },
            "text/plain": [
              "'chemistry chemistry been cantankerous pressing pressing reluctant'"
            ]
          },
          "metadata": {
            "tags": []
          },
          "execution_count": 38
        }
      ]
    }
  ]
}